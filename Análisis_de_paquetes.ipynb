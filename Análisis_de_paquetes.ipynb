{
  "cells": [
    {
      "cell_type": "markdown",
      "metadata": {
        "id": "IwCUXJoWDVxC"
      },
      "source": []
    },
    {
      "cell_type": "code",
      "execution_count": 1,
      "metadata": {
        "colab": {
          "base_uri": "https://localhost:8080/"
        },
        "id": "fZPVSSShpbey",
        "outputId": "b53818ed-05a4-4e96-fa62-16819d35591d"
      },
      "outputs": [
        {
          "name": "stdout",
          "output_type": "stream",
          "text": [
            "Requirement already satisfied: scapy in c:\\users\\sebas\\appdata\\local\\programs\\python\\python311\\lib\\site-packages (2.5.0)\n"
          ]
        },
        {
          "name": "stderr",
          "output_type": "stream",
          "text": [
            "DEPRECATION: torchsde 0.2.5 has a non-standard dependency specifier numpy>=1.19.*; python_version >= \"3.7\". pip 24.0 will enforce this behaviour change. A possible replacement is to upgrade to a newer version of torchsde or contact the author to suggest that they release a version with a conforming dependency specifiers. Discussion can be found at https://github.com/pypa/pip/issues/12063\n",
            "\n",
            "[notice] A new release of pip is available: 23.3.2 -> 24.0\n",
            "[notice] To update, run: python.exe -m pip install --upgrade pip\n"
          ]
        }
      ],
      "source": [
        "!pip install scapy"
      ]
    },
    {
      "cell_type": "code",
      "execution_count": 2,
      "metadata": {
        "id": "8TrBXp14pv54"
      },
      "outputs": [],
      "source": [
        "from scapy.all import * # Packet manipulation\n",
        "import pandas as pd # Pandas - Create and Manipulate DataFrames\n",
        "import numpy as np # Math Stuff (don't worry only used for one line :] )\n",
        "import binascii # Binary to Ascii\n",
        "import seaborn as sns\n",
        "sns.set(color_codes=True)\n",
        "%matplotlib inline"
      ]
    },
    {
      "cell_type": "markdown",
      "metadata": {
        "id": "Z-HBMA7ep50R"
      },
      "source": [
        "Captura de 10 paquetes"
      ]
    },
    {
      "cell_type": "code",
      "execution_count": 3,
      "metadata": {
        "colab": {
          "base_uri": "https://localhost:8080/"
        },
        "id": "CFGBX16-p0SZ",
        "outputId": "9f9dba39-0390-4b12-8bb2-de1380627464"
      },
      "outputs": [
        {
          "name": "stdout",
          "output_type": "stream",
          "text": [
            "<class 'scapy.plist.PacketList'>\n",
            "10\n",
            "<Sniffed: TCP:8 UDP:2 ICMP:0 Other:0>\n"
          ]
        },
        {
          "data": {
            "text/plain": [
              "<Ether  dst=a8:6d:aa:55:06:95 src=c0:25:67:d9:0c:48 type=IPv4 |<IP  version=4 ihl=5 tos=0x80 len=976 id=31877 flags=DF frag=0 ttl=47 proto=udp chksum=0x1644 src=206.247.31.102 dst=192.168.5.206 |<UDP  sport=8801 dport=54757 len=956 chksum=0x3f17 |<Raw  load='\\x05.\\\\xc6\\x00.\\x07\\\\xdd\\x04\\rE\\\\xe4:&\\x00\\x00\\x1e\\x01\\x00\\\\xfb\\\\x90\\x19\\x14H\\x035\\x04brE\\\\xe4\\x00\\x00\\\\xfb\\\\x90\\x1b\\\\x90\\\\xe3\\\\x94\\'\\x04\\\\x85\\\\xbe\\x1c\\x01\\x00\\x04\\x03\\\\xbe\\\\xde\\x00\\x05\\x12P\\x00\\x00G\\x02@M]MNG\\\\xe5c\\x06\\\\x90\\x04\\x1ap\\x01\\x1c@N\\\\xc4\\\\xee܌\\t\\\\xc1(\\\\xa7z\\\\xf9RZ\\\\xd9\\\\xee\\\\xf9\\n\\\\xf6b\\\\xb2\\x1e\\\\xcb\\x07\\\\xd6\\x1d|\\x006\\\\xf74\\\\xee\\x17\\\\xb0\\\\xa8F?-\\\\xa2\\\\x95\\x18\\\\xab\\\\xfc\\\\x8d՟\\nT^\\\\xce,\\\\xd8\\\\xc2\\\\xc8\\\\xf1ٍz\\\\xfd\\\\xb5\\\\xfal\\\\x9c\\\\xdcM\\x06\\\\x8c\\\\x88&\\\\xb8\\\\x8e\\\\xf68:&v\\\\x95\\\\x86\\\\xd0Hn\\rt\\\\x96S~+C\\\\x92\\x12!\\\\xe1M\\\\xd0\\\\xffWh\\x11\\\\xc8P\\\\xb0\\\\xd5ҟ\\\\x86ќY2\\\\x82C\\x1a\\\\x83\\\\xae苅\\\\xf4\\\\xd92T#\\\\xaa\\\\xbbǋ,l\\\\x96r\\\\xaf>}\\\\xba+b\\\\xeel*!]\\\\xf5\\\\x95\\x1bY\\\\xdd ~M\\x020\\\\x98\\x03\\\\xda\\x06\\x10\\\\xf7\\\\xb0\\\\xa9cs\\\\xe7\\\\x9c<\\\\xa0\\\\xd4\\x1e\\\\xa0\\\\xe8GI\\\\xc0\\\\xe0\\\\xe2\\\\xe0\\x06\\x1fø\\\\x90\\\\xf7\\\\xed])\\\\xf7\\x1eӍ\\\\xaaJ\\x02\\\\xc2pv:TC\\\\x92=:N\\\\xaf\\\\xaa\\\\xe6\\\\xd0\\\\xd7\\x01\\\\x8cl\\\\xbamZ\\\\x92MpoXۀ\\\\xc7\\x10,Y\\\\xa9\\\\x87݀\\x19M\\\\xf0u\\\\xdd쳪\\\\xb8\\r\\\\xda\\x02\\\\xb5\\\\xf9\\x1e\\\\x94\\\\xe2\\\\xd4\\\\xc1vn\\\\xe0\\\\xc0o\\\\xe3\\\\xd4\\\\xcd\\\\xd87\\\\xfe \\\\xf4b`+ԣZhKX\\\\x98\\\\x90\\\\xa2\\\\xff\\\\xb4\\\\x9c$\\\\xb3?,\\\\xf4\\\\xa0\\\\xe2\\x1a\\\\xd1+\\\\xf2\\\\xad\\\\xaf\\\\xd2&\\\\xe0\\\\xe1/|\\\\xc2\\\\xc4BA\\\\xb3\\x1eyY;\\\\x94\\\\xb8(\\\\xd3(h\\\\xa6\\\\xa5\\\\xea\\\\xbfm\\\\x84\\\\\\\\x92\\\\xf1\\\\xe7✸\\\\x96\\\\xca1\\\\xb9\\\\x92\\\\x9b\\x0b6\\\\x80Pq\\\\xc87_\\x18\\\\xb9i\\\\x99\\'\\x1b\\\\xae\\\\xe4vc\\\\xb5=\\\\x8a\\\\x8bq\\x0c\\\\xa2\\\\xc5\\\\xd3:\\\\xa2\\\\xd7\\x1f\\\\xb97\\x1b\\x1f\\\\xed\\x05ge\\\\xeaf\\\\x88.]X\\\\x99\\\\x8d\\\\xb9j\\\\xa41秕\\\\xdbʂ&Q\\\\xd6%O\\\\xecq\\\\xf5s\\\\xfb\\\\xac\\\\x92\\\\xf4Gr\\\\xe3z\\\\xe1i\"t4\\\\x98\\\\x8cN.Αh\"\\\\xf2\\r\\x12}8h\\x1fX\\x03\\\\xa2\\\\xa6@\\\\xf3K`\\\\xe7\\x0b\\\\xe9g\\x0cOL[\\\\xb1w^6\\\\x96\\\\x8b\\\\xcf\\\\xf6~a\\\\xb3ΊtU#\\x1a\\\\xf8m\\\\xbaE\\\\xe0\\x15\\\\xfb\\\\xd4\\\\xe0\\\\xc1π\\x15\\\\x81\\\\x9a\\\\xbe\\\\xc1om@\\x0f\\\\xf9P\\\\xffz\\\\xf8\\\\xb3\\\\xd8Rv\\uea47\\x11`\\x1aw\\\\xb3\\x0c\\\\xd4S1\\\\xa3O\\x16V7\\\\xe6\\\\xbc_\\\\xfb\\\\x91\\\\x89\\x15\\\\x97\\x06{\\x12~\\\\xfd\\\\xf3R\\\\xc9^\\x0bU\\\\xe0\\\\xb7O^\\\\xcd,\\\\xac\\x17\\\\x9a\\\\xa2\\\\xb7|w\\\\x93\\\\x85\\\\xc6\\\\xcc\\\\xc4\\\\xff\\\\xbe\\\\x8eeʇFU\\\\xba\\\\xfe\\x1f7p\\x12\\\\xe3?\\\\xe7\\r\\\\x99\\\\xbd\\\\x9dT\\\\x81\\\\xb3\\\\x99ٍ2\\\\xbc\\\\x85\\x10y,\\\\xf7\\\\xa4w>(ӥPx\\\\x80^\\\\xe8\\x14\\\\xa2\\nb\\x1e\\\\xd8\\x08*\\\\x89\\x14\\\\xb1\\\\x88:\\\\xd80>xV\\x12\\\\xacQb4\\\\xde\\x06\\\\xaa\\\\x8cA\\\\xed\\\\xf6܅\\\\xb6U\\\\xe5M\\\\xa0|\\\\xf6I&Q\\\\xea\\\\x85|6̱\\\\xbf\\\\xb8\\x18NތjIG\\\\x88\\\\xa8Áw\"\\\\xf4\\\\xc8\\\\xc3\\\\xea\\x10\\\\x98\\\\x9e\\\\xa8\\x1d֔r\\\\xcd\\\\xfe\\\\xa3A\\\\xe0z2\\\\xfc\\\\xb4\\tT}\\\\x8dD\\\\xb1f\\x12\\\\xae\\\\x92Y\\\\x8a\\x11ƾ\\\\xde\\x0f\\x10u\\\\xa5\\\\x92\\\\xac!\\\\xa2d\\\\xe9\\x19\\\\xd3\\x02\\\\x98\\\\xbd\\\\x8a\\x1cTk\\x1e\\x14}\\\\xee!\\\\x9b\\\\xd45u.L\\x07=\\\\xdd\\x06\\\\x81(r\\\\x82\\\\xb16\\\\xb7\\\\xca\\x1e\\\\x83\\\\x8a\\x1f\\x10\\\\xe7\\\\xfd\\x16/\\\\x93\\x1d-T$\\\\xa8@\\x1c3\\\\xf3\\\\x94\"\\\\xd8\\x1b\\x08c\\\\x88\\x06\\\\xbcV֕g\\\\xad\\\\x8cH<\\x08\\\\x8e\\\\xad\\\\xbeWu\\\\x992uiP\\\\xd8\\\\xf8/\\'\\\\xd4څuq\\\\xcc۞\\\\xeb_\\\\xae)\\\\xc0\\\\xda\\\\xe88\\\\xef\\\\xc1\\r\\\\xb4QK\\tܦqFj\\\\xfex\\\\xce\\\\xfc\\\\x91\\\\xac\\\\x98\\\\xab\\x15\\\\x8d|\\\\\\\\x9a\\\\xf8!\\\\x9e\\\\xc9\\\\xf5\\\\x80/D\\\\x9d\\'g+\\x16\\x16\\\\xb5]\\\\x9a\\x0f>C>Xo⌡\\\\xbd\\n\\\\x9a[D\\\\xb1\\\\xf2Bx\\\\xe2\\\\xf1峾\\\\\\\\xe9\\\\xb58\\\\xa1S)\\\\x8e\\\\xc8\\\\xe2k\\\\x97\\x18ս\\\\xf4\\\\xafw\\x1b' |>>>>"
            ]
          },
          "execution_count": 3,
          "metadata": {},
          "output_type": "execute_result"
        }
      ],
      "source": [
        "num_of_packets_to_sniff = 10\n",
        "pcap = sniff(count=num_of_packets_to_sniff)\n",
        "\n",
        "# rdpcap returns packet list\n",
        "## packetlist object can be enumerated\n",
        "print(type(pcap))\n",
        "print(len(pcap))\n",
        "print(pcap)\n",
        "pcap[0]\n"
      ]
    },
    {
      "cell_type": "markdown",
      "metadata": {
        "id": "S8KkL6uTqwD2"
      },
      "source": [
        "TCP"
      ]
    },
    {
      "cell_type": "code",
      "execution_count": 4,
      "metadata": {
        "colab": {
          "base_uri": "https://localhost:8080/"
        },
        "id": "VEWhUmrsqUFC",
        "outputId": "039a8cef-fd69-4726-8bc6-6434964d5119"
      },
      "outputs": [
        {
          "name": "stdout",
          "output_type": "stream",
          "text": [
            "\n"
          ]
        }
      ],
      "source": [
        "\"\"\"\n",
        "0                   1                   2                   3\n",
        "0 1 2 3 4 5 6 7 8 9 0 1 2 3 4 5 6 7 8 9 0 1 2 3 4 5 6 7 8 9 0 1\n",
        "+-+-+-+-+-+-+-+-+-+-+-+-+-+-+-+-+-+-+-+-+-+-+-+-+-+-+-+-+-+-+-+-+\n",
        "|          Source Port          |       Destination Port        |\n",
        "+-+-+-+-+-+-+-+-+-+-+-+-+-+-+-+-+-+-+-+-+-+-+-+-+-+-+-+-+-+-+-+-+\n",
        "|                        Sequence Number                        |\n",
        "+-+-+-+-+-+-+-+-+-+-+-+-+-+-+-+-+-+-+-+-+-+-+-+-+-+-+-+-+-+-+-+-+\n",
        "|                    Acknowledgment Number                      |\n",
        "+-+-+-+-+-+-+-+-+-+-+-+-+-+-+-+-+-+-+-+-+-+-+-+-+-+-+-+-+-+-+-+-+\n",
        "|  Data |           |U|A|P|R|S|F|                               |\n",
        "| Offset| Reserved  |R|C|S|S|Y|I|            Window             |\n",
        "|       |           |G|K|H|T|N|N|                               |\n",
        "+-+-+-+-+-+-+-+-+-+-+-+-+-+-+-+-+-+-+-+-+-+-+-+-+-+-+-+-+-+-+-+-+\n",
        "|           Checksum            |         Urgent Pointer        |\n",
        "+-+-+-+-+-+-+-+-+-+-+-+-+-+-+-+-+-+-+-+-+-+-+-+-+-+-+-+-+-+-+-+-+\n",
        "|                    Options                    |    Padding    |\n",
        "+-+-+-+-+-+-+-+-+-+-+-+-+-+-+-+-+-+-+-+-+-+-+-+-+-+-+-+-+-+-+-+-+\n",
        "|                             data                              |\n",
        "+-+-+-+-+-+-+-+-+-+-+-+-+-+-+-+-+-+-+-+-+-+-+-+-+-+-+-+-+-+-+-+-+\n",
        "02 04 05 a0 01 03 03 05 01 01 08 0a 1d 74 65 c5 00 00 00 00 04 02 00 00\n",
        "\"\"\"\n",
        "\n",
        "print()"
      ]
    },
    {
      "cell_type": "markdown",
      "metadata": {
        "id": "tcOQYhxiqy7L"
      },
      "source": [
        "Exploración"
      ]
    },
    {
      "cell_type": "code",
      "execution_count": 5,
      "metadata": {
        "colab": {
          "base_uri": "https://localhost:8080/"
        },
        "id": "6V_p1aruq4d4",
        "outputId": "0b0cd476-f5a3-4768-dfa2-39b708bb102d"
      },
      "outputs": [
        {
          "name": "stdout",
          "output_type": "stream",
          "text": [
            "Informacion del frame:\n",
            "Ether / IP / UDP 206.247.31.102:8801 > 192.168.5.206:54757 / Raw\n",
            "Informacion del paquete:\n",
            "IP / UDP 206.247.31.102:8801 > 192.168.5.206:54757 / Raw\n",
            "Informacion del segmento:\n",
            "UDP 206.247.31.102:8801 > 192.168.5.206:54757 / Raw\n",
            "Data:\n",
            "Raw\n",
            "###[ Ethernet ]### \n",
            "  dst       = a8:6d:aa:55:06:95\n",
            "  src       = c0:25:67:d9:0c:48\n",
            "  type      = IPv4\n",
            "###[ IP ]### \n",
            "     version   = 4\n",
            "     ihl       = 5\n",
            "     tos       = 0x80\n",
            "     len       = 976\n",
            "     id        = 31877\n",
            "     flags     = DF\n",
            "     frag      = 0\n",
            "     ttl       = 47\n",
            "     proto     = udp\n",
            "     chksum    = 0x1644\n",
            "     src       = 206.247.31.102\n",
            "     dst       = 192.168.5.206\n",
            "     \\options   \\\n",
            "###[ UDP ]### \n",
            "        sport     = 8801\n",
            "        dport     = 54757\n",
            "        len       = 956\n",
            "        chksum    = 0x3f17\n",
            "###[ Raw ]### \n",
            "           load      = '\\x05.\\\\xc6\\x00.\\x07\\\\xdd\\x04\\rE\\\\xe4:&\\x00\\x00\\x1e\\x01\\x00\\\\xfb\\\\x90\\x19\\x14H\\x035\\x04brE\\\\xe4\\x00\\x00\\\\xfb\\\\x90\\x1b\\\\x90\\\\xe3\\\\x94\\'\\x04\\\\x85\\\\xbe\\x1c\\x01\\x00\\x04\\x03\\\\xbe\\\\xde\\x00\\x05\\x12P\\x00\\x00G\\x02@M]MNG\\\\xe5c\\x06\\\\x90\\x04\\x1ap\\x01\\x1c@N\\\\xc4\\\\xee܌\\t\\\\xc1(\\\\xa7z\\\\xf9RZ\\\\xd9\\\\xee\\\\xf9\\n\\\\xf6b\\\\xb2\\x1e\\\\xcb\\x07\\\\xd6\\x1d|\\x006\\\\xf74\\\\xee\\x17\\\\xb0\\\\xa8F?-\\\\xa2\\\\x95\\x18\\\\xab\\\\xfc\\\\x8d՟\\nT^\\\\xce,\\\\xd8\\\\xc2\\\\xc8\\\\xf1ٍz\\\\xfd\\\\xb5\\\\xfal\\\\x9c\\\\xdcM\\x06\\\\x8c\\\\x88&\\\\xb8\\\\x8e\\\\xf68:&v\\\\x95\\\\x86\\\\xd0Hn\\rt\\\\x96S~+C\\\\x92\\x12!\\\\xe1M\\\\xd0\\\\xffWh\\x11\\\\xc8P\\\\xb0\\\\xd5ҟ\\\\x86ќY2\\\\x82C\\x1a\\\\x83\\\\xae苅\\\\xf4\\\\xd92T#\\\\xaa\\\\xbbǋ,l\\\\x96r\\\\xaf>}\\\\xba+b\\\\xeel*!]\\\\xf5\\\\x95\\x1bY\\\\xdd ~M\\x020\\\\x98\\x03\\\\xda\\x06\\x10\\\\xf7\\\\xb0\\\\xa9cs\\\\xe7\\\\x9c<\\\\xa0\\\\xd4\\x1e\\\\xa0\\\\xe8GI\\\\xc0\\\\xe0\\\\xe2\\\\xe0\\x06\\x1fø\\\\x90\\\\xf7\\\\xed])\\\\xf7\\x1eӍ\\\\xaaJ\\x02\\\\xc2pv:TC\\\\x92=:N\\\\xaf\\\\xaa\\\\xe6\\\\xd0\\\\xd7\\x01\\\\x8cl\\\\xbamZ\\\\x92MpoXۀ\\\\xc7\\x10,Y\\\\xa9\\\\x87݀\\x19M\\\\xf0u\\\\xdd쳪\\\\xb8\\r\\\\xda\\x02\\\\xb5\\\\xf9\\x1e\\\\x94\\\\xe2\\\\xd4\\\\xc1vn\\\\xe0\\\\xc0o\\\\xe3\\\\xd4\\\\xcd\\\\xd87\\\\xfe \\\\xf4b`+ԣZhKX\\\\x98\\\\x90\\\\xa2\\\\xff\\\\xb4\\\\x9c$\\\\xb3?,\\\\xf4\\\\xa0\\\\xe2\\x1a\\\\xd1+\\\\xf2\\\\xad\\\\xaf\\\\xd2&\\\\xe0\\\\xe1/|\\\\xc2\\\\xc4BA\\\\xb3\\x1eyY;\\\\x94\\\\xb8(\\\\xd3(h\\\\xa6\\\\xa5\\\\xea\\\\xbfm\\\\x84\\\\\\\\x92\\\\xf1\\\\xe7✸\\\\x96\\\\xca1\\\\xb9\\\\x92\\\\x9b\\x0b6\\\\x80Pq\\\\xc87_\\x18\\\\xb9i\\\\x99\\'\\x1b\\\\xae\\\\xe4vc\\\\xb5=\\\\x8a\\\\x8bq\\x0c\\\\xa2\\\\xc5\\\\xd3:\\\\xa2\\\\xd7\\x1f\\\\xb97\\x1b\\x1f\\\\xed\\x05ge\\\\xeaf\\\\x88.]X\\\\x99\\\\x8d\\\\xb9j\\\\xa41秕\\\\xdbʂ&Q\\\\xd6%O\\\\xecq\\\\xf5s\\\\xfb\\\\xac\\\\x92\\\\xf4Gr\\\\xe3z\\\\xe1i\"t4\\\\x98\\\\x8cN.Αh\"\\\\xf2\\r\\x12}8h\\x1fX\\x03\\\\xa2\\\\xa6@\\\\xf3K`\\\\xe7\\x0b\\\\xe9g\\x0cOL[\\\\xb1w^6\\\\x96\\\\x8b\\\\xcf\\\\xf6~a\\\\xb3ΊtU#\\x1a\\\\xf8m\\\\xbaE\\\\xe0\\x15\\\\xfb\\\\xd4\\\\xe0\\\\xc1π\\x15\\\\x81\\\\x9a\\\\xbe\\\\xc1om@\\x0f\\\\xf9P\\\\xffz\\\\xf8\\\\xb3\\\\xd8Rv\\uea47\\x11`\\x1aw\\\\xb3\\x0c\\\\xd4S1\\\\xa3O\\x16V7\\\\xe6\\\\xbc_\\\\xfb\\\\x91\\\\x89\\x15\\\\x97\\x06{\\x12~\\\\xfd\\\\xf3R\\\\xc9^\\x0bU\\\\xe0\\\\xb7O^\\\\xcd,\\\\xac\\x17\\\\x9a\\\\xa2\\\\xb7|w\\\\x93\\\\x85\\\\xc6\\\\xcc\\\\xc4\\\\xff\\\\xbe\\\\x8eeʇFU\\\\xba\\\\xfe\\x1f7p\\x12\\\\xe3?\\\\xe7\\r\\\\x99\\\\xbd\\\\x9dT\\\\x81\\\\xb3\\\\x99ٍ2\\\\xbc\\\\x85\\x10y,\\\\xf7\\\\xa4w>(ӥPx\\\\x80^\\\\xe8\\x14\\\\xa2\\nb\\x1e\\\\xd8\\x08*\\\\x89\\x14\\\\xb1\\\\x88:\\\\xd80>xV\\x12\\\\xacQb4\\\\xde\\x06\\\\xaa\\\\x8cA\\\\xed\\\\xf6܅\\\\xb6U\\\\xe5M\\\\xa0|\\\\xf6I&Q\\\\xea\\\\x85|6̱\\\\xbf\\\\xb8\\x18NތjIG\\\\x88\\\\xa8Áw\"\\\\xf4\\\\xc8\\\\xc3\\\\xea\\x10\\\\x98\\\\x9e\\\\xa8\\x1d֔r\\\\xcd\\\\xfe\\\\xa3A\\\\xe0z2\\\\xfc\\\\xb4\\tT}\\\\x8dD\\\\xb1f\\x12\\\\xae\\\\x92Y\\\\x8a\\x11ƾ\\\\xde\\x0f\\x10u\\\\xa5\\\\x92\\\\xac!\\\\xa2d\\\\xe9\\x19\\\\xd3\\x02\\\\x98\\\\xbd\\\\x8a\\x1cTk\\x1e\\x14}\\\\xee!\\\\x9b\\\\xd45u.L\\x07=\\\\xdd\\x06\\\\x81(r\\\\x82\\\\xb16\\\\xb7\\\\xca\\x1e\\\\x83\\\\x8a\\x1f\\x10\\\\xe7\\\\xfd\\x16/\\\\x93\\x1d-T$\\\\xa8@\\x1c3\\\\xf3\\\\x94\"\\\\xd8\\x1b\\x08c\\\\x88\\x06\\\\xbcV֕g\\\\xad\\\\x8cH<\\x08\\\\x8e\\\\xad\\\\xbeWu\\\\x992uiP\\\\xd8\\\\xf8/\\'\\\\xd4څuq\\\\xcc۞\\\\xeb_\\\\xae)\\\\xc0\\\\xda\\\\xe88\\\\xef\\\\xc1\\r\\\\xb4QK\\tܦqFj\\\\xfex\\\\xce\\\\xfc\\\\x91\\\\xac\\\\x98\\\\xab\\x15\\\\x8d|\\\\\\\\x9a\\\\xf8!\\\\x9e\\\\xc9\\\\xf5\\\\x80/D\\\\x9d\\'g+\\x16\\x16\\\\xb5]\\\\x9a\\x0f>C>Xo⌡\\\\xbd\\n\\\\x9a[D\\\\xb1\\\\xf2Bx\\\\xe2\\\\xf1峾\\\\\\\\xe9\\\\xb58\\\\xa1S)\\\\x8e\\\\xc8\\\\xe2k\\\\x97\\x18ս\\\\xf4\\\\xafw\\x1b'\n",
            "\n",
            "###[ Raw ]### \n",
            "  load      = '\\x05.\\\\xc6\\x00.\\x07\\\\xdd\\x04\\rE\\\\xe4:&\\x00\\x00\\x1e\\x01\\x00\\\\xfb\\\\x90\\x19\\x14H\\x035\\x04brE\\\\xe4\\x00\\x00\\\\xfb\\\\x90\\x1b\\\\x90\\\\xe3\\\\x94\\'\\x04\\\\x85\\\\xbe\\x1c\\x01\\x00\\x04\\x03\\\\xbe\\\\xde\\x00\\x05\\x12P\\x00\\x00G\\x02@M]MNG\\\\xe5c\\x06\\\\x90\\x04\\x1ap\\x01\\x1c@N\\\\xc4\\\\xee܌\\t\\\\xc1(\\\\xa7z\\\\xf9RZ\\\\xd9\\\\xee\\\\xf9\\n\\\\xf6b\\\\xb2\\x1e\\\\xcb\\x07\\\\xd6\\x1d|\\x006\\\\xf74\\\\xee\\x17\\\\xb0\\\\xa8F?-\\\\xa2\\\\x95\\x18\\\\xab\\\\xfc\\\\x8d՟\\nT^\\\\xce,\\\\xd8\\\\xc2\\\\xc8\\\\xf1ٍz\\\\xfd\\\\xb5\\\\xfal\\\\x9c\\\\xdcM\\x06\\\\x8c\\\\x88&\\\\xb8\\\\x8e\\\\xf68:&v\\\\x95\\\\x86\\\\xd0Hn\\rt\\\\x96S~+C\\\\x92\\x12!\\\\xe1M\\\\xd0\\\\xffWh\\x11\\\\xc8P\\\\xb0\\\\xd5ҟ\\\\x86ќY2\\\\x82C\\x1a\\\\x83\\\\xae苅\\\\xf4\\\\xd92T#\\\\xaa\\\\xbbǋ,l\\\\x96r\\\\xaf>}\\\\xba+b\\\\xeel*!]\\\\xf5\\\\x95\\x1bY\\\\xdd ~M\\x020\\\\x98\\x03\\\\xda\\x06\\x10\\\\xf7\\\\xb0\\\\xa9cs\\\\xe7\\\\x9c<\\\\xa0\\\\xd4\\x1e\\\\xa0\\\\xe8GI\\\\xc0\\\\xe0\\\\xe2\\\\xe0\\x06\\x1fø\\\\x90\\\\xf7\\\\xed])\\\\xf7\\x1eӍ\\\\xaaJ\\x02\\\\xc2pv:TC\\\\x92=:N\\\\xaf\\\\xaa\\\\xe6\\\\xd0\\\\xd7\\x01\\\\x8cl\\\\xbamZ\\\\x92MpoXۀ\\\\xc7\\x10,Y\\\\xa9\\\\x87݀\\x19M\\\\xf0u\\\\xdd쳪\\\\xb8\\r\\\\xda\\x02\\\\xb5\\\\xf9\\x1e\\\\x94\\\\xe2\\\\xd4\\\\xc1vn\\\\xe0\\\\xc0o\\\\xe3\\\\xd4\\\\xcd\\\\xd87\\\\xfe \\\\xf4b`+ԣZhKX\\\\x98\\\\x90\\\\xa2\\\\xff\\\\xb4\\\\x9c$\\\\xb3?,\\\\xf4\\\\xa0\\\\xe2\\x1a\\\\xd1+\\\\xf2\\\\xad\\\\xaf\\\\xd2&\\\\xe0\\\\xe1/|\\\\xc2\\\\xc4BA\\\\xb3\\x1eyY;\\\\x94\\\\xb8(\\\\xd3(h\\\\xa6\\\\xa5\\\\xea\\\\xbfm\\\\x84\\\\\\\\x92\\\\xf1\\\\xe7✸\\\\x96\\\\xca1\\\\xb9\\\\x92\\\\x9b\\x0b6\\\\x80Pq\\\\xc87_\\x18\\\\xb9i\\\\x99\\'\\x1b\\\\xae\\\\xe4vc\\\\xb5=\\\\x8a\\\\x8bq\\x0c\\\\xa2\\\\xc5\\\\xd3:\\\\xa2\\\\xd7\\x1f\\\\xb97\\x1b\\x1f\\\\xed\\x05ge\\\\xeaf\\\\x88.]X\\\\x99\\\\x8d\\\\xb9j\\\\xa41秕\\\\xdbʂ&Q\\\\xd6%O\\\\xecq\\\\xf5s\\\\xfb\\\\xac\\\\x92\\\\xf4Gr\\\\xe3z\\\\xe1i\"t4\\\\x98\\\\x8cN.Αh\"\\\\xf2\\r\\x12}8h\\x1fX\\x03\\\\xa2\\\\xa6@\\\\xf3K`\\\\xe7\\x0b\\\\xe9g\\x0cOL[\\\\xb1w^6\\\\x96\\\\x8b\\\\xcf\\\\xf6~a\\\\xb3ΊtU#\\x1a\\\\xf8m\\\\xbaE\\\\xe0\\x15\\\\xfb\\\\xd4\\\\xe0\\\\xc1π\\x15\\\\x81\\\\x9a\\\\xbe\\\\xc1om@\\x0f\\\\xf9P\\\\xffz\\\\xf8\\\\xb3\\\\xd8Rv\\uea47\\x11`\\x1aw\\\\xb3\\x0c\\\\xd4S1\\\\xa3O\\x16V7\\\\xe6\\\\xbc_\\\\xfb\\\\x91\\\\x89\\x15\\\\x97\\x06{\\x12~\\\\xfd\\\\xf3R\\\\xc9^\\x0bU\\\\xe0\\\\xb7O^\\\\xcd,\\\\xac\\x17\\\\x9a\\\\xa2\\\\xb7|w\\\\x93\\\\x85\\\\xc6\\\\xcc\\\\xc4\\\\xff\\\\xbe\\\\x8eeʇFU\\\\xba\\\\xfe\\x1f7p\\x12\\\\xe3?\\\\xe7\\r\\\\x99\\\\xbd\\\\x9dT\\\\x81\\\\xb3\\\\x99ٍ2\\\\xbc\\\\x85\\x10y,\\\\xf7\\\\xa4w>(ӥPx\\\\x80^\\\\xe8\\x14\\\\xa2\\nb\\x1e\\\\xd8\\x08*\\\\x89\\x14\\\\xb1\\\\x88:\\\\xd80>xV\\x12\\\\xacQb4\\\\xde\\x06\\\\xaa\\\\x8cA\\\\xed\\\\xf6܅\\\\xb6U\\\\xe5M\\\\xa0|\\\\xf6I&Q\\\\xea\\\\x85|6̱\\\\xbf\\\\xb8\\x18NތjIG\\\\x88\\\\xa8Áw\"\\\\xf4\\\\xc8\\\\xc3\\\\xea\\x10\\\\x98\\\\x9e\\\\xa8\\x1d֔r\\\\xcd\\\\xfe\\\\xa3A\\\\xe0z2\\\\xfc\\\\xb4\\tT}\\\\x8dD\\\\xb1f\\x12\\\\xae\\\\x92Y\\\\x8a\\x11ƾ\\\\xde\\x0f\\x10u\\\\xa5\\\\x92\\\\xac!\\\\xa2d\\\\xe9\\x19\\\\xd3\\x02\\\\x98\\\\xbd\\\\x8a\\x1cTk\\x1e\\x14}\\\\xee!\\\\x9b\\\\xd45u.L\\x07=\\\\xdd\\x06\\\\x81(r\\\\x82\\\\xb16\\\\xb7\\\\xca\\x1e\\\\x83\\\\x8a\\x1f\\x10\\\\xe7\\\\xfd\\x16/\\\\x93\\x1d-T$\\\\xa8@\\x1c3\\\\xf3\\\\x94\"\\\\xd8\\x1b\\x08c\\\\x88\\x06\\\\xbcV֕g\\\\xad\\\\x8cH<\\x08\\\\x8e\\\\xad\\\\xbeWu\\\\x992uiP\\\\xd8\\\\xf8/\\'\\\\xd4څuq\\\\xcc۞\\\\xeb_\\\\xae)\\\\xc0\\\\xda\\\\xe88\\\\xef\\\\xc1\\r\\\\xb4QK\\tܦqFj\\\\xfex\\\\xce\\\\xfc\\\\x91\\\\xac\\\\x98\\\\xab\\x15\\\\x8d|\\\\\\\\x9a\\\\xf8!\\\\x9e\\\\xc9\\\\xf5\\\\x80/D\\\\x9d\\'g+\\x16\\x16\\\\xb5]\\\\x9a\\x0f>C>Xo⌡\\\\xbd\\n\\\\x9a[D\\\\xb1\\\\xf2Bx\\\\xe2\\\\xf1峾\\\\\\\\xe9\\\\xb58\\\\xa1S)\\\\x8e\\\\xc8\\\\xe2k\\\\x97\\x18ս\\\\xf4\\\\xafw\\x1b'\n",
            "\n"
          ]
        }
      ],
      "source": [
        "#Recordemos que en los modelos de red, las capas inferiores encapsulan la información de las capas superiores\n",
        "#Frames en paquetes, paquetes en segmentos (Ethernet, IP), modelo TCP/IP\n",
        "\n",
        "ethernet_frame = pcap[0]\n",
        "ip_packet = ethernet_frame.payload\n",
        "segment = ip_packet.payload\n",
        "data = segment.payload #recupera la informacion de la capa 4\n",
        "\n",
        "print(\"Informacion del frame:\")\n",
        "print(ethernet_frame.summary())\n",
        "\n",
        "print(\"Informacion del paquete:\")\n",
        "print(ip_packet.summary())\n",
        "\n",
        "print(\"Informacion del segmento:\")\n",
        "print(segment.summary())\n",
        "\n",
        "print(\"Data:\")\n",
        "print(data.summary())\n",
        "\n",
        "ethernet_frame.show()\n",
        "data.show()"
      ]
    },
    {
      "cell_type": "markdown",
      "metadata": {
        "id": "B7VfYOxJsq1Y"
      },
      "source": [
        "Tipos de datos en Scapy"
      ]
    },
    {
      "cell_type": "code",
      "execution_count": 6,
      "metadata": {
        "colab": {
          "base_uri": "https://localhost:8080/"
        },
        "id": "ll1ixX5KspSd",
        "outputId": "39aa2577-7f16-4b6c-af1a-30764cb51a71"
      },
      "outputs": [
        {
          "name": "stdout",
          "output_type": "stream",
          "text": [
            "<class 'scapy.layers.l2.Ether'>\n",
            "<class 'scapy.layers.inet.IP'>\n",
            "<class 'scapy.layers.inet.UDP'>\n",
            "Ethernet <Ether from Sniffed: TCP:8 UDP:2 ICMP:0 Other:0>\n",
            "IP <IP from Sniffed: TCP:8 UDP:2 ICMP:0 Other:0>\n",
            "TCP <UDP from Sniffed: TCP:0 UDP:2 ICMP:0 Other:0>\n",
            "UDP <UDP from Sniffed: TCP:0 UDP:2 ICMP:0 Other:0>\n"
          ]
        }
      ],
      "source": [
        "print(type(ethernet_frame))\n",
        "print(type(ip_packet))\n",
        "print(type(segment))\n",
        "\n",
        "# Packets can be filtered on layers ie) ethernet_frame[scapy.layers.l2.Ether]\n",
        "ethernet_type = type(ethernet_frame)\n",
        "ip_type = type(ip_packet)\n",
        "tcp_type = type(segment)\n",
        "print(\"Ethernet\",pcap[ethernet_type])\n",
        "print(\"IP\", pcap[ip_type])\n",
        "print(\"TCP\", pcap[tcp_type])\n",
        "\n",
        "# Scapy provides this via import statements\n",
        "from scapy.layers.l2 import Ether\n",
        "from scapy.layers.inet import IP\n",
        "from scapy.layers.inet import TCP, UDP\n",
        "\n",
        "print(\"UDP\", pcap[UDP])"
      ]
    },
    {
      "cell_type": "markdown",
      "metadata": {
        "id": "ioVnNkvRthYL"
      },
      "source": [
        "Conversion de PCAP a DF"
      ]
    },
    {
      "cell_type": "code",
      "execution_count": 7,
      "metadata": {
        "colab": {
          "base_uri": "https://localhost:8080/"
        },
        "id": "H50zKfyhtkck",
        "outputId": "3eba1c99-7aba-4da3-9cba-08e5ea11850a"
      },
      "outputs": [
        {
          "name": "stdout",
          "output_type": "stream",
          "text": [
            "  version ihl  tos   len     id flags frag  ttl proto chksum  ... dataofs   \n",
            "0       4   5  128   976  31877    DF    0   47    17   5700  ...    None  \\\n",
            "1       4   5  128   310  31878    DF    0   47    17   6365  ...    None   \n",
            "2       4   5  184    40  39652    DF    0  113     6  28738  ...       5   \n",
            "3       4   5    0  1480  35128    DF    0  128     6      0  ...       5   \n",
            "4       4   5  184  1500  39653    DF    0  113     6  27277  ...       5   \n",
            "\n",
            "  reserved flags  window chksum urgptr options payload   \n",
            "0     None  None    None  16151   None    None     948  \\\n",
            "1     None  None    None  10090   None    None     282   \n",
            "2        0     A   16383  59007      0    None       0   \n",
            "3        0     A     517  36362      0       0    1440   \n",
            "4        0     A   16383  41197      0       0    1460   \n",
            "\n",
            "                                         payload_raw   \n",
            "0  b'\\x05.\\xc6\\x00.\\x07\\xdd\\x04\\rE\\xe4:&\\x00\\x00\\...  \\\n",
            "1  b\"\\x05\\x1e\\x1b\\x00.\\x08'\\x04\\x0f\\x01\\x00\\xfb\\x...   \n",
            "2                                                b''   \n",
            "3  b'\\x17\\x03\\x03\\x00E\\x92\\x91\\xce\\'\\xba\\x80[\\xf5...   \n",
            "4  b'\\x16\\x03\\x03\\x17\\x1b\\x02\\x00\\x00f\\x03\\x03f\\x...   \n",
            "\n",
            "                                         payload_hex  \n",
            "0  b'052ec6002e07dd040d45e43a2600001e0100fb901914...  \n",
            "1  b'051e1b002e0827040f0100fb901611040390f0627245...  \n",
            "2                                                b''  \n",
            "3  b'17030300459291ce27ba805bf596d3830d3669707817...  \n",
            "4  b'160303171b0200006603036619dd05bc41a89376f352...  \n",
            "\n",
            "[5 rows x 28 columns]\n"
          ]
        }
      ],
      "source": [
        "# Obtenemos los campos de IP/TCP/UDP que seran las columnas de nuestro DF\n",
        "ip_fields = [field.name for field in IP().fields_desc]\n",
        "tcp_fields = [field.name for field in TCP().fields_desc]\n",
        "udp_fields = [field.name for field in UDP().fields_desc]\n",
        "\n",
        "#Concatenamos todos los campos\n",
        "dataframe_fields = ip_fields + ['time'] + tcp_fields + ['payload','payload_raw','payload_hex']\n",
        "\n",
        "# Creamos un DF en blanco con los campos como columnas\n",
        "df = pd.DataFrame(columns=dataframe_fields)\n",
        "for packet in pcap[IP]:\n",
        "    # Obtenemos los valores de los campos de cada fila\n",
        "    field_values = []\n",
        "    # A;adimos todos los valores de los campos de IP al df\n",
        "    for field in ip_fields:\n",
        "        if field == 'options':\n",
        "            # Obtenemos el numero de opciones del IP Header\n",
        "            field_values.append(len(packet[IP].fields[field]))\n",
        "        else:\n",
        "            field_values.append(packet[IP].fields[field])\n",
        "\n",
        "    field_values.append(packet.time)\n",
        "\n",
        "    layer_type = type(packet[IP].payload)\n",
        "    for field in tcp_fields:\n",
        "        try:\n",
        "            if field == 'options':\n",
        "                field_values.append(len(packet[layer_type].fields[field]))\n",
        "            else:\n",
        "                field_values.append(packet[layer_type].fields[field])\n",
        "        except:\n",
        "            field_values.append(None)\n",
        "\n",
        "    # Agregamos el payload\n",
        "    field_values.append(len(packet[layer_type].payload))\n",
        "    field_values.append(packet[layer_type].payload.original)\n",
        "    field_values.append(binascii.hexlify(packet[layer_type].payload.original))\n",
        "    # Agregamos la fila al df\n",
        "    df_append = pd.DataFrame([field_values], columns=dataframe_fields)\n",
        "    df = pd.concat([df, df_append], axis=0)\n",
        "\n",
        "# Reset Index\n",
        "df = df.reset_index()\n",
        "# Drop old index column\n",
        "df = df.drop(columns=\"index\")\n",
        "\n",
        "print(df.head(5))"
      ]
    },
    {
      "cell_type": "code",
      "execution_count": 8,
      "metadata": {
        "colab": {
          "base_uri": "https://localhost:8080/",
          "height": 751
        },
        "id": "LqqOTjHmzcpJ",
        "outputId": "81104b8e-e53a-4659-b40b-d7cac99ccb4d"
      },
      "outputs": [
        {
          "data": {
            "text/html": [
              "<div>\n",
              "<style scoped>\n",
              "    .dataframe tbody tr th:only-of-type {\n",
              "        vertical-align: middle;\n",
              "    }\n",
              "\n",
              "    .dataframe tbody tr th {\n",
              "        vertical-align: top;\n",
              "    }\n",
              "\n",
              "    .dataframe thead th {\n",
              "        text-align: right;\n",
              "    }\n",
              "</style>\n",
              "<table border=\"1\" class=\"dataframe\">\n",
              "  <thead>\n",
              "    <tr style=\"text-align: right;\">\n",
              "      <th></th>\n",
              "      <th>src</th>\n",
              "      <th>dst</th>\n",
              "      <th>sport</th>\n",
              "      <th>dport</th>\n",
              "    </tr>\n",
              "  </thead>\n",
              "  <tbody>\n",
              "    <tr>\n",
              "      <th>0</th>\n",
              "      <td>206.247.31.102</td>\n",
              "      <td>192.168.5.206</td>\n",
              "      <td>8801</td>\n",
              "      <td>54757</td>\n",
              "    </tr>\n",
              "    <tr>\n",
              "      <th>1</th>\n",
              "      <td>206.247.31.102</td>\n",
              "      <td>192.168.5.206</td>\n",
              "      <td>8801</td>\n",
              "      <td>54758</td>\n",
              "    </tr>\n",
              "    <tr>\n",
              "      <th>2</th>\n",
              "      <td>13.107.42.16</td>\n",
              "      <td>192.168.5.206</td>\n",
              "      <td>443</td>\n",
              "      <td>43762</td>\n",
              "    </tr>\n",
              "    <tr>\n",
              "      <th>3</th>\n",
              "      <td>192.168.5.206</td>\n",
              "      <td>20.189.173.28</td>\n",
              "      <td>43746</td>\n",
              "      <td>443</td>\n",
              "    </tr>\n",
              "    <tr>\n",
              "      <th>4</th>\n",
              "      <td>13.107.42.16</td>\n",
              "      <td>192.168.5.206</td>\n",
              "      <td>443</td>\n",
              "      <td>43762</td>\n",
              "    </tr>\n",
              "    <tr>\n",
              "      <th>5</th>\n",
              "      <td>13.107.42.16</td>\n",
              "      <td>192.168.5.206</td>\n",
              "      <td>443</td>\n",
              "      <td>43762</td>\n",
              "    </tr>\n",
              "    <tr>\n",
              "      <th>6</th>\n",
              "      <td>13.107.42.16</td>\n",
              "      <td>192.168.5.206</td>\n",
              "      <td>443</td>\n",
              "      <td>43762</td>\n",
              "    </tr>\n",
              "    <tr>\n",
              "      <th>7</th>\n",
              "      <td>13.107.42.16</td>\n",
              "      <td>192.168.5.206</td>\n",
              "      <td>443</td>\n",
              "      <td>43762</td>\n",
              "    </tr>\n",
              "    <tr>\n",
              "      <th>8</th>\n",
              "      <td>13.107.42.16</td>\n",
              "      <td>192.168.5.206</td>\n",
              "      <td>443</td>\n",
              "      <td>43762</td>\n",
              "    </tr>\n",
              "    <tr>\n",
              "      <th>9</th>\n",
              "      <td>192.168.5.206</td>\n",
              "      <td>13.107.42.16</td>\n",
              "      <td>43762</td>\n",
              "      <td>443</td>\n",
              "    </tr>\n",
              "  </tbody>\n",
              "</table>\n",
              "</div>"
            ],
            "text/plain": [
              "              src            dst  sport  dport\n",
              "0  206.247.31.102  192.168.5.206   8801  54757\n",
              "1  206.247.31.102  192.168.5.206   8801  54758\n",
              "2    13.107.42.16  192.168.5.206    443  43762\n",
              "3   192.168.5.206  20.189.173.28  43746    443\n",
              "4    13.107.42.16  192.168.5.206    443  43762\n",
              "5    13.107.42.16  192.168.5.206    443  43762\n",
              "6    13.107.42.16  192.168.5.206    443  43762\n",
              "7    13.107.42.16  192.168.5.206    443  43762\n",
              "8    13.107.42.16  192.168.5.206    443  43762\n",
              "9   192.168.5.206   13.107.42.16  43762    443"
            ]
          },
          "execution_count": 8,
          "metadata": {},
          "output_type": "execute_result"
        }
      ],
      "source": [
        "# Return Src Address, Dst Address, Src Port, Dst Port\n",
        "df[['src','dst','sport','dport']]"
      ]
    },
    {
      "cell_type": "code",
      "execution_count": 9,
      "metadata": {
        "colab": {
          "base_uri": "https://localhost:8080/"
        },
        "id": "rG6Pfp_VzfUe",
        "outputId": "18172844-162d-4969-e04a-446e02cc5202"
      },
      "outputs": [
        {
          "name": "stdout",
          "output_type": "stream",
          "text": [
            "# Top Source Address\n",
            "count               10\n",
            "unique               3\n",
            "top       13.107.42.16\n",
            "freq                 6\n",
            "Name: src, dtype: object \n",
            "\n",
            "\n"
          ]
        }
      ],
      "source": [
        "#Calcular estadisticas\n",
        "print(\"# Top Source Address\")\n",
        "print(df['src'].describe(),'\\n\\n')"
      ]
    },
    {
      "cell_type": "code",
      "execution_count": 10,
      "metadata": {
        "colab": {
          "base_uri": "https://localhost:8080/"
        },
        "id": "e1kc8Mzf_uZl",
        "outputId": "c7d72120-f357-44e8-bd8c-48be0d78307a"
      },
      "outputs": [
        {
          "name": "stdout",
          "output_type": "stream",
          "text": [
            "13.107.42.16\n",
            "['192.168.5.206'] \n",
            "\n",
            "\n"
          ]
        }
      ],
      "source": [
        "#¿Quien es la IP de origen mas frecuente?\n",
        "frequent_address = df['src'].describe()['top']\n",
        "print(frequent_address)\n",
        "\n",
        "# A que IPs les habla la IP mas frecuente\n",
        "print(df[df['src'] == frequent_address]['dst'].unique(),\"\\n\\n\")"
      ]
    }
  ],
  "metadata": {
    "colab": {
      "provenance": []
    },
    "kernelspec": {
      "display_name": "Python 3",
      "name": "python3"
    },
    "language_info": {
      "codemirror_mode": {
        "name": "ipython",
        "version": 3
      },
      "file_extension": ".py",
      "mimetype": "text/x-python",
      "name": "python",
      "nbconvert_exporter": "python",
      "pygments_lexer": "ipython3",
      "version": "3.11.3"
    }
  },
  "nbformat": 4,
  "nbformat_minor": 0
}
