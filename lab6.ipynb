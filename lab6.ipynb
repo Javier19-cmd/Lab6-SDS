{
 "cells": [
  {
   "cell_type": "code",
   "execution_count": 22,
   "metadata": {},
   "outputs": [
    {
     "name": "stderr",
     "output_type": "stream",
     "text": [
      "DEPRECATION: torchsde 0.2.5 has a non-standard dependency specifier numpy>=1.19.*; python_version >= \"3.7\". pip 24.0 will enforce this behaviour change. A possible replacement is to upgrade to a newer version of torchsde or contact the author to suggest that they release a version with a conforming dependency specifiers. Discussion can be found at https://github.com/pypa/pip/issues/12063"
     ]
    },
    {
     "name": "stdout",
     "output_type": "stream",
     "text": [
      "Requirement already satisfied: scapy in c:\\users\\sebas\\appdata\\local\\programs\\python\\python311\\lib\\site-packages (2.5.0)"
     ]
    },
    {
     "name": "stderr",
     "output_type": "stream",
     "text": [
      "\n"
     ]
    },
    {
     "name": "stdout",
     "output_type": "stream",
     "text": [
      "\n"
     ]
    },
    {
     "name": "stderr",
     "output_type": "stream",
     "text": [
      "\n",
      "[notice] A new release of pip is available: 23.3.2 -> 24.0\n",
      "[notice] To update, run: python.exe -m pip install --upgrade pip\n"
     ]
    }
   ],
   "source": [
    "!pip install scapy"
   ]
  },
  {
   "cell_type": "code",
   "execution_count": 23,
   "metadata": {},
   "outputs": [],
   "source": [
    "from scapy.all import * # Packet manipulation\n",
    "import pandas as pd # Pandas - Create and Manipulate DataFrames\n",
    "import numpy as np # Math Stuff (don't worry only used for one line :] )\n",
    "import binascii # Binary to Ascii\n",
    "import seaborn as sns\n",
    "sns.set(color_codes=True)\n",
    "%matplotlib inline"
   ]
  },
  {
   "cell_type": "markdown",
   "metadata": {},
   "source": [
    "Preámbulo"
   ]
  },
  {
   "cell_type": "code",
   "execution_count": 24,
   "metadata": {},
   "outputs": [
    {
     "name": "stdout",
     "output_type": "stream",
     "text": [
      "Tipo de variable: <class 'scapy.plist.PacketList'>\n",
      "Longitud de la variable: 25\n",
      "Contenido de la variable: <Sniffed: TCP:16 UDP:9 ICMP:0 Other:0>\n",
      "Tipo de dato del primer paquete capturado: <class 'scapy.layers.l2.Ether'>\n",
      "\n",
      "Contenido de los primeros 5 paquetes capturados:\n",
      "Paquete 1 : Ether / IP / TCP 192.168.5.206:52978 > 52.226.139.180:https A / Raw\n",
      "Paquete 2 : Ether / IP / TCP 52.226.139.180:https > 192.168.5.206:52978 A\n",
      "Paquete 3 : Ether / IP / UDP 0.0.0.0:11113 > 255.255.255.255:11111 / Raw\n",
      "Paquete 4 : Ether / IP / TCP 162.159.130.234:https > 192.168.5.206:43580 PA / Raw\n",
      "Paquete 5 : Ether / IP / TCP 192.168.5.206:43580 > 162.159.130.234:https A\n"
     ]
    }
   ],
   "source": [
    "# Capturando los primeros 25 paquetes de la red doméstica\n",
    "captured_packets = sniff(count=25)\n",
    "\n",
    "# Imprimiendo tipo de variable, longitud y contenido\n",
    "print(\"Tipo de variable:\", type(captured_packets))\n",
    "print(\"Longitud de la variable:\", len(captured_packets))\n",
    "print(\"Contenido de la variable:\", captured_packets)\n",
    "\n",
    "# Imprimiendo el tipo de dato del primer paquete capturado\n",
    "first_packet = captured_packets[0]\n",
    "print(\"Tipo de dato del primer paquete capturado:\", type(first_packet))\n",
    "\n",
    "# Imprimiendo contenido de 5 paquetes\n",
    "print(\"\\nContenido de los primeros 5 paquetes capturados:\")\n",
    "for i in range(5):\n",
    "    print(\"Paquete\", i+1, \":\", captured_packets[i].summary())"
   ]
  },
  {
   "cell_type": "markdown",
   "metadata": {},
   "source": [
    "Análisis estadístico"
   ]
  },
  {
   "cell_type": "code",
   "execution_count": 25,
   "metadata": {},
   "outputs": [
    {
     "name": "stdout",
     "output_type": "stream",
     "text": [
      "   Src Address  Dst Address  Src Port  Dst Port\n",
      "0   10.1.10.53  84.54.22.33        53        53\n",
      "1  84.54.22.33   10.1.10.53        53        53\n",
      "2   10.1.10.53  84.54.22.33        53        53\n",
      "3  84.54.22.33   10.1.10.53        53        53\n",
      "4   10.1.10.53  84.54.22.33        53        53\n"
     ]
    }
   ],
   "source": [
    "paquete_pcap = rdpcap(\"analisis_paquetes.pcap\")\n",
    "\n",
    "df = pd.DataFrame()\n",
    "\n",
    "# Iterando sobre los paquetes en paquete_pcap\n",
    "for i, packet in enumerate(paquete_pcap):\n",
    "    # Verificar si el paquete tiene la capa IP\n",
    "    if IP in packet:\n",
    "        # Si la capa IP existe, se accede a los campos 'src' y 'dst'\n",
    "        src_address = packet[IP].src\n",
    "        dst_address = packet[IP].dst\n",
    "    else:\n",
    "        src_address = None\n",
    "        dst_address = None\n",
    "\n",
    "    # Verificando si el paquete tiene la capa TCP o UDP\n",
    "    if TCP in packet:\n",
    "        # Si la capa TCP existe, se accede a los campos 'sport' y 'dport'\n",
    "        src_port = packet[TCP].sport\n",
    "        dst_port = packet[TCP].dport\n",
    "    elif UDP in packet:\n",
    "        # Si la capa UDP existe, se accede a los campos 'sport' y 'dport'\n",
    "        src_port = packet[UDP].sport\n",
    "        dst_port = packet[UDP].dport\n",
    "    else:\n",
    "        src_port = None\n",
    "        dst_port = None\n",
    "\n",
    "    # Añadiendo los campos al DataFrame\n",
    "    df_temp = pd.DataFrame({'Src Address': [src_address], 'Dst Address': [dst_address], 'Src Port': [src_port], 'Dst Port': [dst_port]})\n",
    "    df = pd.concat([df, df_temp], ignore_index=True)\n",
    "\n",
    "print(df.head())"
   ]
  },
  {
   "cell_type": "markdown",
   "metadata": {},
   "source": [
    "Estadísticas"
   ]
  },
  {
   "cell_type": "markdown",
   "metadata": {},
   "source": [
    "Inciso a. Muestre todas las IP origen"
   ]
  },
  {
   "cell_type": "code",
   "execution_count": 26,
   "metadata": {},
   "outputs": [
    {
     "name": "stdout",
     "output_type": "stream",
     "text": [
      "Todas las IP origen:\n",
      "['10.1.10.53' '84.54.22.33' '75.75.75.75']\n"
     ]
    }
   ],
   "source": [
    "print(\"Todas las IP origen:\")\n",
    "print(df['Src Address'].unique())"
   ]
  },
  {
   "cell_type": "markdown",
   "metadata": {},
   "source": [
    "Inciso b. Muestre todas las IP destino"
   ]
  },
  {
   "cell_type": "code",
   "execution_count": 27,
   "metadata": {},
   "outputs": [
    {
     "name": "stdout",
     "output_type": "stream",
     "text": [
      "\n",
      "Todas las IP destino:\n",
      "['84.54.22.33' '10.1.10.53' '75.75.75.75']\n"
     ]
    }
   ],
   "source": [
    "print(\"\\nTodas las IP destino:\")\n",
    "print(df['Dst Address'].unique())"
   ]
  },
  {
   "cell_type": "markdown",
   "metadata": {},
   "source": [
    "Inciso c."
   ]
  },
  {
   "cell_type": "code",
   "execution_count": 28,
   "metadata": {},
   "outputs": [
    {
     "name": "stdout",
     "output_type": "stream",
     "text": [
      "\n",
      "La IP origen más frecuente es: 10.1.10.53\n",
      "La IP destino con la que se comunica más frecuentemente es: 84.54.22.33\n",
      "El puerto destino con el que se comunica más frecuentemente es: 53\n",
      "El propósito de este puerto puede variar dependiendo del protocolo y la aplicación que lo esté utilizando.\n",
      "\n",
      "Los puertos origen desde los que se comunica son: [   53 15812 23903]\n"
     ]
    }
   ],
   "source": [
    "# c. ¿Cuál es la IP origen más frecuente?\n",
    "src_ip_mas_frecuente = df['Src Address'].value_counts().idxmax()\n",
    "print(\"\\nLa IP origen más frecuente es:\", src_ip_mas_frecuente)\n",
    "\n",
    "# i. ¿A qué IP destino se comunica con más frecuencia?\n",
    "dst_ip_mas_frecuente = df[df['Src Address'] == src_ip_mas_frecuente]['Dst Address'].value_counts().idxmax()\n",
    "print(\"La IP destino con la que se comunica más frecuentemente es:\", dst_ip_mas_frecuente)\n",
    "\n",
    "# ii. ¿A que puerto destino se comunica? ¿Cuál es el propósito de este puerto?\n",
    "dst_port_mas_frecuente = df[(df['Src Address'] == src_ip_mas_frecuente) & (df['Dst Address'] == dst_ip_mas_frecuente)]['Dst Port'].value_counts().idxmax()\n",
    "print(\"El puerto destino con el que se comunica más frecuentemente es:\", dst_port_mas_frecuente)\n",
    "print(\"El propósito de este puerto puede variar dependiendo del protocolo y la aplicación que lo esté utilizando.\")\n",
    "\n",
    "# iii. ¿Desde que puertos origen se comunica?\n",
    "src_ports = df[df['Src Address'] == src_ip_mas_frecuente]['Src Port'].unique()\n",
    "print(\"\\nLos puertos origen desde los que se comunica son:\", src_ports)"
   ]
  }
 ],
 "metadata": {
  "kernelspec": {
   "display_name": "Python 3",
   "language": "python",
   "name": "python3"
  },
  "language_info": {
   "codemirror_mode": {
    "name": "ipython",
    "version": 3
   },
   "file_extension": ".py",
   "mimetype": "text/x-python",
   "name": "python",
   "nbconvert_exporter": "python",
   "pygments_lexer": "ipython3",
   "version": "3.11.3"
  }
 },
 "nbformat": 4,
 "nbformat_minor": 2
}
